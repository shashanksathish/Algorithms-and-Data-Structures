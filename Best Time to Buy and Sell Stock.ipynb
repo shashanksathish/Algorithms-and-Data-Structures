{
 "cells": [
  {
   "cell_type": "markdown",
   "metadata": {},
   "source": [
    "# Best Time to Buy and Sell Stock\n",
    "\n",
    "Given an array of integers where the ith integer represents the price of the stock on day i, return the largest possible profit from completing one transaction (i.e. buying 1 share and selling 1 share).\n",
    "Examples: Given the following prices...\n",
    "\n",
    "// Buy on day 1 and sell on day 5 for a profit of 5 - 1 = 4. <br>\n",
    "prices = [1, 2, 3, 4, 5], return 4. <br>\n",
    "// Buy on day 4 and sell on day 9 for a profit of 11 - 1 = 10. <br>\n",
    "prices = [4, 5, 2, 1, 6, 10, 4, 9, 11], return 10. <br>\n",
    "// Buying and selling the stock at any point would yield a negative profit. <br>\n",
    "prices = [33, 18, 8, 2], return 0 "
   ]
  },
  {
   "cell_type": "code",
   "execution_count": 34,
   "metadata": {},
   "outputs": [],
   "source": [
    "def stock(a):\n",
    "    minVal = 0\n",
    "    maxVal = 0\n",
    "    k = 0\n",
    "    i = 0\n",
    "    j = len(a)-1\n",
    "    while k < len(a):\n",
    "        k+=1 \n",
    "        if a[i] < a[j]:\n",
    "            j = j - 1\n",
    "        if a[i] >= a[j]:\n",
    "            i = i + 1\n",
    "        if i == j:\n",
    "            minVal = i\n",
    "    k = 0\n",
    "    i = 0\n",
    "    j = len(a)-1\n",
    "    while k < len(a):\n",
    "        k+=1\n",
    "        if a[i] > a[j]:\n",
    "            j = j - 1\n",
    "        elif a[i] <= a[j]:\n",
    "            i = i + 1\n",
    "        if i == j:\n",
    "            maxVal = i\n",
    "    if minVal > maxVal:\n",
    "        return 0\n",
    "    else:\n",
    "        return a[maxVal] - a[minVal]\n",
    "        "
   ]
  },
  {
   "cell_type": "code",
   "execution_count": 35,
   "metadata": {},
   "outputs": [
    {
     "data": {
      "text/plain": [
       "0"
      ]
     },
     "execution_count": 35,
     "metadata": {},
     "output_type": "execute_result"
    }
   ],
   "source": [
    "stock([33, 18, 8, 2])"
   ]
  },
  {
   "cell_type": "code",
   "execution_count": null,
   "metadata": {},
   "outputs": [],
   "source": []
  }
 ],
 "metadata": {
  "kernelspec": {
   "display_name": "Python 3",
   "language": "python",
   "name": "python3"
  },
  "language_info": {
   "codemirror_mode": {
    "name": "ipython",
    "version": 3
   },
   "file_extension": ".py",
   "mimetype": "text/x-python",
   "name": "python",
   "nbconvert_exporter": "python",
   "pygments_lexer": "ipython3",
   "version": "3.7.7"
  }
 },
 "nbformat": 4,
 "nbformat_minor": 4
}
