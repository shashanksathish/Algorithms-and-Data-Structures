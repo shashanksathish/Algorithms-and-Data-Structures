{
 "cells": [
  {
   "cell_type": "code",
   "execution_count": 1,
   "metadata": {},
   "outputs": [],
   "source": [
    "import math\n",
    "import os\n",
    "import random\n",
    "import re\n",
    "import sys"
   ]
  },
  {
   "cell_type": "code",
   "execution_count": 54,
   "metadata": {},
   "outputs": [],
   "source": [
    "steps = 8\n",
    "path = 'UDDDUDUU'"
   ]
  },
  {
   "cell_type": "code",
   "execution_count": 58,
   "metadata": {},
   "outputs": [],
   "source": [
    "level = 0\n",
    "valley = 0\n",
    "temp = []\n",
    "for i in path:\n",
    "    if i is 'U':\n",
    "        level += 1\n",
    "        temp.append(level)\n",
    "    if i is 'D':\n",
    "        level -= 1\n",
    "        temp.append(level)\n",
    "\n",
    "for i in range(0,len(temp)):\n",
    "    if temp[i] == 0 and temp[i-1] < 0:\n",
    "        valley += 1"
   ]
  }
 ],
 "metadata": {
  "kernelspec": {
   "display_name": "Python 3",
   "language": "python",
   "name": "python3"
  },
  "language_info": {
   "codemirror_mode": {
    "name": "ipython",
    "version": 3
   },
   "file_extension": ".py",
   "mimetype": "text/x-python",
   "name": "python",
   "nbconvert_exporter": "python",
   "pygments_lexer": "ipython3",
   "version": "3.7.7"
  }
 },
 "nbformat": 4,
 "nbformat_minor": 4
}
