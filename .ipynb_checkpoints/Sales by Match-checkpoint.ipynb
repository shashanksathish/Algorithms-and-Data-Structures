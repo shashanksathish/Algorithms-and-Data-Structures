{
 "cells": [
  {
   "cell_type": "markdown",
   "metadata": {},
   "source": [
    "Alex works at a clothing store. There is a large pile of socks that must be paired by color for sale. Given an array of integers representing the color of each sock, determine how many pairs of socks with matching colors there are.\n",
    "\n",
    "For example, there are n = 7 socks with colors ar = [1,2,1,2,1,3,2] . There is one pair of color 1 and one of color 2. There are three odd socks left, one of each color. The number of pairs is 2.\n",
    "\n",
    "<b>Function Description</b>\n",
    "\n",
    "Complete the sockMerchant function in the editor below. It must return an integer representing the number of matching pairs of socks that are available.\n",
    "\n",
    "sockMerchant has the following parameter(s):\n",
    "\n",
    "n: the number of socks in the pile <br>\n",
    "ar: the colors of each sock <br>\n",
    "\n",
    "Input Format\n",
    "1 <= n <= 100\n",
    "1 <= ar[i] <= 100 where 0 <= i <= n<br>\n",
    "\n",
    "Output Format<br>\n",
    "\n",
    "Return the total number of matching pairs of socks that Alex can sell.<br>\n",
    "Sample Input<br>\n",
    "\n",
    "9<br>\n",
    "10 20 20 10 10 30 50 10 20<br>\n",
    "Sample Output<br>\n",
    "3 <br>\n",
    "\n",
    "Explanation <br>\n",
    "\n",
    "<img src= \"images/sales.png\">\n",
    "\n",
    "Alex can match three pairs of socks."
   ]
  },
  {
   "cell_type": "code",
   "execution_count": 91,
   "metadata": {},
   "outputs": [],
   "source": [
    "def sockMerchant(n, ar):\n",
    "    sales = 0\n",
    "    val = {}\n",
    "    key = []\n",
    "    for i in ar:\n",
    "        if i in val:\n",
    "            val[i] += 1\n",
    "        if i not in val:\n",
    "            key.append(i)\n",
    "            val[i] = 1    \n",
    "    for key in val:\n",
    "        val[key] = math.floor(val[key]/2)\n",
    "    for key in val:\n",
    "        sales += val[key]\n",
    "    return sales"
   ]
  },
  {
   "cell_type": "code",
   "execution_count": 93,
   "metadata": {},
   "outputs": [
    {
     "data": {
      "text/plain": [
       "3"
      ]
     },
     "execution_count": 93,
     "metadata": {},
     "output_type": "execute_result"
    }
   ],
   "source": [
    "sockMerchant(7, [1,1,2,3,3,5,2])"
   ]
  }
 ],
 "metadata": {
  "kernelspec": {
   "display_name": "Python 3",
   "language": "python",
   "name": "python3"
  },
  "language_info": {
   "codemirror_mode": {
    "name": "ipython",
    "version": 3
   },
   "file_extension": ".py",
   "mimetype": "text/x-python",
   "name": "python",
   "nbconvert_exporter": "python",
   "pygments_lexer": "ipython3",
   "version": "3.7.7"
  }
 },
 "nbformat": 4,
 "nbformat_minor": 4
}
