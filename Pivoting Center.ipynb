{
 "cells": [
  {
   "cell_type": "code",
   "execution_count": 1,
   "metadata": {},
   "outputs": [],
   "source": [
    "import math\n",
    "import os\n",
    "import random\n",
    "import re\n",
    "import sys"
   ]
  },
  {
   "cell_type": "code",
   "execution_count": 7,
   "metadata": {},
   "outputs": [],
   "source": [
    "arr = [1,2,3]"
   ]
  },
  {
   "cell_type": "code",
   "execution_count": 5,
   "metadata": {},
   "outputs": [],
   "source": [
    "def pivot(arr):\n",
    "    i = 0\n",
    "    j = len(arr)-1\n",
    "    left_sum = arr[i]\n",
    "    right_sum = arr[j]\n",
    "    if(len(arr) == 1):\n",
    "        return 0\n",
    "    else:\n",
    "        while(i < j):\n",
    "            if(left_sum < right_sum):\n",
    "                i += 1\n",
    "                left_sum += arr[i]\n",
    "            elif(left_sum > right_sum):\n",
    "                j -= 1\n",
    "                right_sum += arr[j]\n",
    "            else:\n",
    "                if((i+1) == (j-1)):\n",
    "                    return i+1\n",
    "                else:\n",
    "                    i += 1\n",
    "                    left_sum += arr[i]\n",
    "                    return -1"
   ]
  },
  {
   "cell_type": "code",
   "execution_count": 8,
   "metadata": {},
   "outputs": [
    {
     "data": {
      "text/plain": [
       "-1"
      ]
     },
     "execution_count": 8,
     "metadata": {},
     "output_type": "execute_result"
    }
   ],
   "source": [
    "pivot(arr)"
   ]
  },
  {
   "cell_type": "markdown",
   "metadata": {},
   "source": [
    "## Complexity\n",
    "\n",
    "[1,2,3] runs through the array once with index at the beggining and the end that computes sum of left and right side. Once found the match it returns the value."
   ]
  },
  {
   "cell_type": "code",
   "execution_count": null,
   "metadata": {},
   "outputs": [],
   "source": []
  }
 ],
 "metadata": {
  "kernelspec": {
   "display_name": "Python 3",
   "language": "python",
   "name": "python3"
  },
  "language_info": {
   "codemirror_mode": {
    "name": "ipython",
    "version": 3
   },
   "file_extension": ".py",
   "mimetype": "text/x-python",
   "name": "python",
   "nbconvert_exporter": "python",
   "pygments_lexer": "ipython3",
   "version": "3.8.5"
  }
 },
 "nbformat": 4,
 "nbformat_minor": 4
}
