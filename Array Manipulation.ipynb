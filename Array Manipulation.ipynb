{
 "cells": [
  {
   "cell_type": "code",
   "execution_count": 1,
   "metadata": {},
   "outputs": [],
   "source": [
    "import math\n",
    "import os\n",
    "import random\n",
    "import re\n",
    "import sys"
   ]
  },
  {
   "cell_type": "code",
   "execution_count": 36,
   "metadata": {},
   "outputs": [],
   "source": [
    "n = 5\n",
    "queries_len = 3\n",
    "queries = [[1,2,100],[2,5,100],[3,4,100]]"
   ]
  },
  {
   "cell_type": "code",
   "execution_count": 42,
   "metadata": {},
   "outputs": [
    {
     "data": {
      "text/plain": [
       "3"
      ]
     },
     "execution_count": 42,
     "metadata": {},
     "output_type": "execute_result"
    }
   ],
   "source": [
    "len(queries)"
   ]
  },
  {
   "cell_type": "code",
   "execution_count": 37,
   "metadata": {},
   "outputs": [],
   "source": [
    "arr = [0]*n"
   ]
  },
  {
   "cell_type": "code",
   "execution_count": 40,
   "metadata": {},
   "outputs": [
    {
     "name": "stdout",
     "output_type": "stream",
     "text": [
      "a 0\n",
      "b 1\n",
      "[300, 400, 400, 400, 200]\n",
      "a 1\n",
      "b 1\n",
      "[300, 500, 400, 400, 200]\n",
      "a 1\n",
      "b 4\n",
      "[300, 600, 400, 400, 200]\n",
      "a 2\n",
      "b 4\n",
      "[300, 600, 500, 400, 200]\n",
      "a 3\n",
      "b 4\n",
      "[300, 600, 500, 500, 200]\n",
      "a 4\n",
      "b 4\n",
      "[300, 600, 500, 500, 300]\n",
      "a 2\n",
      "b 3\n",
      "[300, 600, 600, 500, 300]\n",
      "a 3\n",
      "b 3\n",
      "[300, 600, 600, 600, 300]\n"
     ]
    }
   ],
   "source": [
    "for i in range(0,queries_len):\n",
    "    a = queries[i][0] - 1\n",
    "    b = queries[i][1] - 1\n",
    "    while a <= b:\n",
    "        print(\"a \" + str(a))\n",
    "        print(\"b \" + str(b))\n",
    "        arr[a] = arr[a] + queries[i][2]\n",
    "        print(arr)\n",
    "        a = a + 1"
   ]
  },
  {
   "cell_type": "code",
   "execution_count": null,
   "metadata": {},
   "outputs": [],
   "source": []
  }
 ],
 "metadata": {
  "kernelspec": {
   "display_name": "Python 3",
   "language": "python",
   "name": "python3"
  },
  "language_info": {
   "codemirror_mode": {
    "name": "ipython",
    "version": 3
   },
   "file_extension": ".py",
   "mimetype": "text/x-python",
   "name": "python",
   "nbconvert_exporter": "python",
   "pygments_lexer": "ipython3",
   "version": "3.8.5"
  }
 },
 "nbformat": 4,
 "nbformat_minor": 4
}
