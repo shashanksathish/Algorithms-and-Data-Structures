{
 "cells": [
  {
   "cell_type": "code",
   "execution_count": null,
   "metadata": {},
   "outputs": [],
   "source": [
    "def mergeStrings(s1, s2):\n",
    "    s1_dict ={}\n",
    "    s2_dict ={}\n",
    "    temp = []\n",
    "    for i in range(0,len(s1)):\n",
    "        if(s1[i] in s1_dict.keys()):\n",
    "            s1_dict[s1[i]] = s1_dict[s1[i]] + 1\n",
    "        else:\n",
    "            s1_dict[s1[i]] = 1\n",
    "    for i in range(0,len(s2)):\n",
    "        if(s2[i] in s2_dict.keys()):\n",
    "            s2_dict[s2[i]] = s2_dict[s2[i]] + 1\n",
    "        else:\n",
    "            s2_dict[s2[i]] = 1 \n",
    "    \n",
    "    while(nums != 0):\n",
    "        \n",
    "    \n",
    "    \n",
    "            \n",
    "    for s1_k,s1_v in s1_dict.items():\n",
    "        for s2_k,s2_v in s2_dict.items():\n",
    "            if(s1_v < s2_v):\n",
    "                temp.append(s1_k)\n",
    "            elif(s1_v > s2_v):\n",
    "                temp.append(s2_k)\n",
    "            else:\n",
    "                temp.append(s2_k)"
   ]
  }
 ],
 "metadata": {
  "kernelspec": {
   "display_name": "Python 3",
   "language": "python",
   "name": "python3"
  },
  "language_info": {
   "codemirror_mode": {
    "name": "ipython",
    "version": 3
   },
   "file_extension": ".py",
   "mimetype": "text/x-python",
   "name": "python",
   "nbconvert_exporter": "python",
   "pygments_lexer": "ipython3",
   "version": "3.8.5"
  }
 },
 "nbformat": 4,
 "nbformat_minor": 4
}
